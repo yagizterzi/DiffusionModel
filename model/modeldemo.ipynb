{
 "cells": [
  {
   "cell_type": "code",
   "execution_count": 10,
   "id": "1d678782",
   "metadata": {},
   "outputs": [
    {
     "name": "stdout",
     "output_type": "stream",
     "text": [
      "Using device: cuda\n"
     ]
    },
    {
     "ename": "AttributeError",
     "evalue": "module 'model_converter' has no attribute 'load_from_standart_weights'",
     "output_type": "error",
     "traceback": [
      "\u001b[31m---------------------------------------------------------------------------\u001b[39m",
      "\u001b[31mAttributeError\u001b[39m                            Traceback (most recent call last)",
      "\u001b[36mCell\u001b[39m\u001b[36m \u001b[39m\u001b[32mIn[10]\u001b[39m\u001b[32m, line 24\u001b[39m\n\u001b[32m     22\u001b[39m tokenizer = CLIPTokenizer(vocab, merges_file=merges)\n\u001b[32m     23\u001b[39m model_file = \u001b[33mr\u001b[39m\u001b[33m\"\u001b[39m\u001b[33mC:\u001b[39m\u001b[33m\\\u001b[39m\u001b[33mUsers\u001b[39m\u001b[33m\\\u001b[39m\u001b[33myagiz\u001b[39m\u001b[33m\\\u001b[39m\u001b[33mOneDrive\u001b[39m\u001b[33m\\\u001b[39m\u001b[33mMasaüstü\u001b[39m\u001b[33m\\\u001b[39m\u001b[33mUygulamalar\u001b[39m\u001b[33m\\\u001b[39m\u001b[33mkodlar\u001b[39m\u001b[33m\\\u001b[39m\u001b[33mStable Diffusion Model\u001b[39m\u001b[33m\\\u001b[39m\u001b[33mdata\u001b[39m\u001b[33m\\\u001b[39m\u001b[33mv1-5-pruned-emaonly.ckpt\u001b[39m\u001b[33m\"\u001b[39m\n\u001b[32m---> \u001b[39m\u001b[32m24\u001b[39m models = \u001b[43mloader\u001b[49m\u001b[43m.\u001b[49m\u001b[43mpreload_models_from_standard_weights\u001b[49m\u001b[43m(\u001b[49m\u001b[43mmodel_file\u001b[49m\u001b[43m,\u001b[49m\u001b[43m \u001b[49m\u001b[43mDEVICE\u001b[49m\u001b[43m)\u001b[49m\n",
      "\u001b[36mFile \u001b[39m\u001b[32mc:\\Users\\yagiz\\OneDrive\\Masaüstü\\Uygulamalar\\kodlar\\Stable Diffusion Model\\model\\loader.py:9\u001b[39m, in \u001b[36mpreload_models_from_standard_weights\u001b[39m\u001b[34m(ckpt_path, device)\u001b[39m\n\u001b[32m      7\u001b[39m \u001b[38;5;28;01mdef\u001b[39;00m \u001b[34mpreload_models_from_standard_weights\u001b[39m(ckpt_path,device):\n\u001b[32m      8\u001b[39m     \u001b[38;5;66;03m# Load the weights\u001b[39;00m\n\u001b[32m----> \u001b[39m\u001b[32m9\u001b[39m     state_dict = \u001b[43mmodel_converter\u001b[49m\u001b[43m.\u001b[49m\u001b[43mload_from_standart_weights\u001b[49m(ckpt_path,device)\n\u001b[32m     11\u001b[39m     \u001b[38;5;66;03m# Load the encoder\u001b[39;00m\n\u001b[32m     12\u001b[39m     encoder = VAE_Encoder.to(device)\n",
      "\u001b[31mAttributeError\u001b[39m: module 'model_converter' has no attribute 'load_from_standart_weights'"
     ]
    }
   ],
   "source": [
    "import loader \n",
    "import pipeline\n",
    "from PIL import Image\n",
    "from pathlib import Path\n",
    "from transformers import CLIPTokenizer\n",
    "import torch\n",
    "\n",
    "DEVICE = \"cpu\"\n",
    "\n",
    "ALLOW_CUDA = True\n",
    "ALLOW_MPS = False\n",
    "\n",
    "if torch.cuda.is_available() and ALLOW_CUDA:\n",
    "    DEVICE = \"cuda\"\n",
    "elif (torch.has_mps or torch.backends.mps.is_available()) and ALLOW_MPS:\n",
    "    DEVICE = \"mps\"\n",
    "print(f\"Using device: {DEVICE}\")\n",
    "\n",
    "vocab = r\"C:\\Users\\yagiz\\OneDrive\\Masaüstü\\Uygulamalar\\kodlar\\Stable Diffusion Model\\data\\vocab.json\"\n",
    "merges = r\"C:\\Users\\yagiz\\OneDrive\\Masaüstü\\Uygulamalar\\kodlar\\Stable Diffusion Model\\data\\merges.txt\"\n",
    "\n",
    "tokenizer = CLIPTokenizer(vocab, merges_file=merges)\n",
    "model_file = r\"C:\\Users\\yagiz\\OneDrive\\Masaüstü\\Uygulamalar\\kodlar\\Stable Diffusion Model\\data\\v1-5-pruned-emaonly.ckpt\"\n",
    "models = loader.preload_models_from_standard_weights(model_file, DEVICE)"
   ]
  }
 ],
 "metadata": {
  "kernelspec": {
   "display_name": "Python 3",
   "language": "python",
   "name": "python3"
  },
  "language_info": {
   "codemirror_mode": {
    "name": "ipython",
    "version": 3
   },
   "file_extension": ".py",
   "mimetype": "text/x-python",
   "name": "python",
   "nbconvert_exporter": "python",
   "pygments_lexer": "ipython3",
   "version": "3.11.9"
  }
 },
 "nbformat": 4,
 "nbformat_minor": 5
}
